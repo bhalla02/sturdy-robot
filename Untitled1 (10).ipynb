{
 "cells": [
  {
   "cell_type": "markdown",
   "id": "2d57dde8-58d5-4e9d-b64c-4512398ba4ba",
   "metadata": {},
   "source": [
    "Q1. What is Gradient Boosting Regression?\n",
    "Gradient Boosting Regression is a machine learning technique used for regression tasks that builds an ensemble of weak learners, typically decision trees, in a stage-wise manner. Each subsequent model is trained to correct the errors made by the previous models by optimizing a loss function using gradient descent. The final model is a weighted sum of all the weak learners, aiming to minimize the overall prediction error."
   ]
  },
  {
   "cell_type": "code",
   "execution_count": 1,
   "id": "c063a6b7-5c56-4ad4-a2c0-4fd3b9c9c8b4",
   "metadata": {},
   "outputs": [
    {
     "name": "stdout",
     "output_type": "stream",
     "text": [
      "Mean Squared Error: 2.4518736631688953\n",
      "R-squared: 0.5973934871643851\n"
     ]
    }
   ],
   "source": [
    "#Q2\n",
    "\n",
    "import numpy as np\n",
    "from sklearn.tree import DecisionTreeRegressor\n",
    "from sklearn.metrics import mean_squared_error, r2_score\n",
    "\n",
    "# Sample dataset\n",
    "X = np.array([[1], [2], [3], [4], [5], [6], [7], [8], [9], [10]])\n",
    "y = np.array([3, 6, 2, 8, 7, 3, 5, 8, 7, 10])\n",
    "\n",
    "# Gradient Boosting implementation\n",
    "class GradientBoostingRegressor:\n",
    "    def __init__(self, n_estimators=100, learning_rate=0.1, max_depth=3):\n",
    "        self.n_estimators = n_estimators\n",
    "        self.learning_rate = learning_rate\n",
    "        self.max_depth = max_depth\n",
    "        self.models = []\n",
    "\n",
    "    def fit(self, X, y):\n",
    "        # Initialize model predictions with the mean of the target values\n",
    "        self.initial_prediction = np.mean(y)\n",
    "        y_pred = np.full(y.shape, self.initial_prediction)\n",
    "        \n",
    "        for _ in range(self.n_estimators):\n",
    "            residual = y - y_pred\n",
    "            model = DecisionTreeRegressor(max_depth=self.max_depth)\n",
    "            model.fit(X, residual)\n",
    "            y_pred += self.learning_rate * model.predict(X)\n",
    "            self.models.append(model)\n",
    "    \n",
    "    def predict(self, X):\n",
    "        y_pred = np.full((X.shape[0],), self.initial_prediction)\n",
    "        for model in self.models:\n",
    "            y_pred += self.learning_rate * model.predict(X)\n",
    "        return y_pred\n",
    "\n",
    "# Train the model\n",
    "gbr = GradientBoostingRegressor(n_estimators=10, learning_rate=0.1, max_depth=2)\n",
    "gbr.fit(X, y)\n",
    "y_pred = gbr.predict(X)\n",
    "\n",
    "# Evaluate the model\n",
    "mse = mean_squared_error(y, y_pred)\n",
    "r2 = r2_score(y, y_pred)\n",
    "\n",
    "print(\"Mean Squared Error:\", mse)\n",
    "print(\"R-squared:\", r2)\n"
   ]
  },
  {
   "cell_type": "code",
   "execution_count": 3,
   "id": "96f9072e-c328-468f-8cb6-34a9dbe03fc1",
   "metadata": {},
   "outputs": [
    {
     "name": "stdout",
     "output_type": "stream",
     "text": [
      "Best parameters: {'learning_rate': 0.01, 'max_depth': 1, 'n_estimators': 50}\n",
      "Best score (MSE): 8.818599999166432\n"
     ]
    }
   ],
   "source": [
    "#Q3\n",
    "\n",
    "import numpy as np\n",
    "from sklearn.tree import DecisionTreeRegressor\n",
    "from sklearn.metrics import mean_squared_error, r2_score\n",
    "from sklearn.model_selection import GridSearchCV\n",
    "from sklearn.base import BaseEstimator, RegressorMixin\n",
    "\n",
    "# Sample dataset\n",
    "X = np.array([[1], [2], [3], [4], [5], [6], [7], [8], [9], [10]])\n",
    "y = np.array([3, 6, 2, 8, 7, 3, 5, 8, 7, 10])\n",
    "\n",
    "# Gradient Boosting implementation\n",
    "class GradientBoostingRegressor(BaseEstimator, RegressorMixin):\n",
    "    def __init__(self, n_estimators=100, learning_rate=0.1, max_depth=3):\n",
    "        self.n_estimators = n_estimators\n",
    "        self.learning_rate = learning_rate\n",
    "        self.max_depth = max_depth\n",
    "        self.models = []\n",
    "        self.initial_prediction = None\n",
    "\n",
    "    def fit(self, X, y):\n",
    "        self.models = []\n",
    "        self.initial_prediction = np.mean(y)\n",
    "        y_pred = np.full(y.shape, self.initial_prediction)\n",
    "        \n",
    "        for _ in range(self.n_estimators):\n",
    "            residual = y - y_pred\n",
    "            model = DecisionTreeRegressor(max_depth=self.max_depth)\n",
    "            model.fit(X, residual)\n",
    "            y_pred += self.learning_rate * model.predict(X)\n",
    "            self.models.append(model)\n",
    "    \n",
    "    def predict(self, X):\n",
    "        y_pred = np.full((X.shape[0],), self.initial_prediction)\n",
    "        for model in self.models:\n",
    "            y_pred += self.learning_rate * model.predict(X)\n",
    "        return y_pred\n",
    "    \n",
    "    def get_params(self, deep=True):\n",
    "        return {\n",
    "            'n_estimators': self.n_estimators,\n",
    "            'learning_rate': self.learning_rate,\n",
    "            'max_depth': self.max_depth\n",
    "        }\n",
    "    \n",
    "    def set_params(self, **params):\n",
    "        for key, value in params.items():\n",
    "            setattr(self, key, value)\n",
    "        return self\n",
    "\n",
    "# Define the parameter grid\n",
    "param_grid = {\n",
    "    'n_estimators': [10, 50, 100],\n",
    "    'learning_rate': [0.01, 0.1, 0.2],\n",
    "    'max_depth': [1, 2, 3, 4]\n",
    "}\n",
    "\n",
    "# Use GridSearchCV for hyperparameter tuning\n",
    "gbr = GradientBoostingRegressor()\n",
    "grid_search = GridSearchCV(estimator=gbr, param_grid=param_grid, scoring='neg_mean_squared_error', cv=3)\n",
    "grid_search.fit(X, y)\n",
    "\n",
    "# Get the best parameters and best score\n",
    "best_params = grid_search.best_params_\n",
    "best_score = -grid_search.best_score_\n",
    "\n",
    "print(\"Best parameters:\", best_params)\n",
    "print(\"Best score (MSE):\", best_score)\n"
   ]
  },
  {
   "cell_type": "code",
   "execution_count": null,
   "id": "b5c2ba5c-8a8e-485b-b0ff-955cf85b9ec8",
   "metadata": {},
   "outputs": [],
   "source": []
  }
 ],
 "metadata": {
  "kernelspec": {
   "display_name": "Python 3 (ipykernel)",
   "language": "python",
   "name": "python3"
  },
  "language_info": {
   "codemirror_mode": {
    "name": "ipython",
    "version": 3
   },
   "file_extension": ".py",
   "mimetype": "text/x-python",
   "name": "python",
   "nbconvert_exporter": "python",
   "pygments_lexer": "ipython3",
   "version": "3.10.8"
  }
 },
 "nbformat": 4,
 "nbformat_minor": 5
}
